{
 "cells": [
  {
   "cell_type": "markdown",
   "metadata": {},
   "source": [
    "참고 URL :\n",
    "\n",
    "* [Data Science FAQ | Kaggle](https://www.kaggle.com/rounakbanik/data-science-faq)\n",
    "\n",
    "* [Novice to Grandmaster | Kaggle](https://www.kaggle.com/ash316/novice-to-grandmaster)\n",
    "* [DATA](https://www.kaggle.com/kaggle/kaggle-survey-2017?select=conversionRates.csv)\n",
    "\n",
    "* 이 설문조사의 결과를 바탕으로 데이터사이언스와 머신러닝과 관련 된 인사이트를 얻어볼 수 있지 않을까 가설을 세워본다."
   ]
  },
  {
   "cell_type": "markdown",
   "metadata": {},
   "source": [
    "# 캐글러를 대상으로 한 설문조사\n",
    "\n",
    "* 설문기간 : 2017년 8월 7일부터 8월 25일까지\n",
    "* 평균 응답 시간은 16.4 분\n",
    "* 171 개 국가 및 지역에서 16,716 명의 응답자\n",
    "* 특정 국가 또는 지역에서 응답자가 50 명 미만인 경우 익명을 위해 그룹을 '기타'그룹으로 그룹화\n",
    "* 설문 조사 시스템에 신고 된 응답자를 스팸으로 분류하거나 취업 상태에 관한 질문에 답변하지 않은 응답자는  제외(이 질문은 첫 번째 필수 질문이기에 응답하지 않으면 응답자가 다섯 번째 질문 이후 진행되지 않음)\n",
    "* 대부분의 응답자는 이메일 목록, 토론 포럼 및 소셜 미디어 Kaggle 채널을 통해 설문을 알게 됨\n",
    "* 급여데이터는 일부 통화에 대해서만 받고 해당 되는 통화에 기준하여 작성하도록 함\n",
    "* 미국 달러로 급여를 계산할 수 있도록 USD로 환산 한 csv를 제공\n",
    "* 질문은 선택적\n",
    "* 모든 질문이 모든 응답자에게 보여지는 것은 아님\n",
    "* 취업을 한 사람과 학생을 나누어 다른 질문을 함\n",
    "* 응답자의 신원을 보호하기 위해 주관식과 객관식 파일로 분리\n",
    "* 객관식과 자유 형식 응답을 맞추기 위한 키를 제공하지 않음\n",
    "* 주관식 응답은 같은 행에 나타나는 응답이 반드시 동일한 설문 조사자가 제공하지 않도록 열 단위로 무작위 지정\n",
    "\n",
    "\n",
    "# 데이터 파일\n",
    "\n",
    "5 개의 데이터 파일을 제공\n",
    "\n",
    "* schema.csv : 설문 스키마가있는 CSV 파일입니다. 이 스키마에는 multipleChoiceResponses.csv 및 freeformResponses.csv의 각 열 이름에 해당하는 질문이 포함되어 있습니다.\n",
    "* multipleChoiceResponses.csv : 객관식 및 순위 질문에 대한 응답자의 답변, 각 행이 한 응답자의 응답\n",
    "* freeformResponses.csv : Kaggle의 설문 조사 질문에 대한 응답자의 주관식 답변입니다. 임의로 지정되어 각 행이 같은 응답자를 나타내지 않음\n",
    "* conversionRates.csv : R 패키지 \"quantmod\"에서 2017 년 9 월 14 일에 액세스 한 통화 변환율 (USD)\n",
    "* RespondentTypeREADME.txt : schema.csv 파일의 \"Asked\"열에 응답을 디코딩하는 스키마입니다."
   ]
  },
  {
   "cell_type": "code",
   "execution_count": 2,
   "metadata": {},
   "outputs": [],
   "source": [
    "# 노트북에 그래프를 출력하기위해 \n",
    "%matplotlib inline\n",
    "\n",
    "# 라이브러리 임포트\n",
    "import pandas as pd\n",
    "import numpy as np\n",
    "from scipy import stats\n",
    "import matplotlib.pyplot as plt\n",
    "import seaborn as sns \n",
    "\n",
    "# warning massage 무시하기 \n",
    "import warnings\n",
    "warnings.filterwarnings('ignore')\n",
    "\n",
    "%config InlineBackend.gigure_format=\"retina\""
   ]
  },
  {
   "cell_type": "code",
   "execution_count": 3,
   "metadata": {},
   "outputs": [
    {
     "data": {
      "text/plain": [
       "(290, 3)"
      ]
     },
     "execution_count": 3,
     "metadata": {},
     "output_type": "execute_result"
    }
   ],
   "source": [
    "question = pd.read_csv('data/schema.csv')\n",
    "question\n",
    "question.shape"
   ]
  },
  {
   "cell_type": "code",
   "execution_count": 4,
   "metadata": {},
   "outputs": [
    {
     "data": {
      "text/html": [
       "<div>\n",
       "<style scoped>\n",
       "    .dataframe tbody tr th:only-of-type {\n",
       "        vertical-align: middle;\n",
       "    }\n",
       "\n",
       "    .dataframe tbody tr th {\n",
       "        vertical-align: top;\n",
       "    }\n",
       "\n",
       "    .dataframe thead th {\n",
       "        text-align: right;\n",
       "    }\n",
       "</style>\n",
       "<table border=\"1\" class=\"dataframe\">\n",
       "  <thead>\n",
       "    <tr style=\"text-align: right;\">\n",
       "      <th></th>\n",
       "      <th>Column</th>\n",
       "      <th>Question</th>\n",
       "      <th>Asked</th>\n",
       "    </tr>\n",
       "  </thead>\n",
       "  <tbody>\n",
       "    <tr>\n",
       "      <td>0</td>\n",
       "      <td>GenderSelect</td>\n",
       "      <td>Select your gender identity. - Selected Choice</td>\n",
       "      <td>All</td>\n",
       "    </tr>\n",
       "    <tr>\n",
       "      <td>1</td>\n",
       "      <td>GenderFreeForm</td>\n",
       "      <td>Select your gender identity. - A different ide...</td>\n",
       "      <td>All</td>\n",
       "    </tr>\n",
       "    <tr>\n",
       "      <td>2</td>\n",
       "      <td>Country</td>\n",
       "      <td>Select the country you currently live in.</td>\n",
       "      <td>All</td>\n",
       "    </tr>\n",
       "    <tr>\n",
       "      <td>3</td>\n",
       "      <td>Age</td>\n",
       "      <td>What's your age?</td>\n",
       "      <td>All</td>\n",
       "    </tr>\n",
       "    <tr>\n",
       "      <td>4</td>\n",
       "      <td>EmploymentStatus</td>\n",
       "      <td>What's your current employment status?</td>\n",
       "      <td>All</td>\n",
       "    </tr>\n",
       "  </tbody>\n",
       "</table>\n",
       "</div>"
      ],
      "text/plain": [
       "             Column                                           Question Asked\n",
       "0      GenderSelect     Select your gender identity. - Selected Choice   All\n",
       "1    GenderFreeForm  Select your gender identity. - A different ide...   All\n",
       "2           Country          Select the country you currently live in.   All\n",
       "3               Age                                   What's your age?   All\n",
       "4  EmploymentStatus             What's your current employment status?   All"
      ]
     },
     "execution_count": 4,
     "metadata": {},
     "output_type": "execute_result"
    }
   ],
   "source": [
    "question.head()"
   ]
  },
  {
   "cell_type": "code",
   "execution_count": 5,
   "metadata": {},
   "outputs": [
    {
     "data": {
      "text/plain": [
       "(16716, 228)"
      ]
     },
     "execution_count": 5,
     "metadata": {},
     "output_type": "execute_result"
    }
   ],
   "source": [
    "# 판다스로 선다형 객관식 문제에 대한 응답을 가져옴\n",
    "mcq = pd.read_csv('data/multipleChoiceResponses.csv'\n",
    "                  , encoding='ISO-8859-1', low_memory=False)\n",
    "mcq.shape"
   ]
  },
  {
   "cell_type": "code",
   "execution_count": 6,
   "metadata": {},
   "outputs": [
    {
     "data": {
      "text/plain": [
       "Index(['GenderSelect', 'Country', 'Age', 'EmploymentStatus', 'StudentStatus',\n",
       "       'LearningDataScience', 'CodeWriter', 'CareerSwitcher',\n",
       "       'CurrentJobTitleSelect', 'TitleFit',\n",
       "       ...\n",
       "       'JobFactorExperienceLevel', 'JobFactorDepartment', 'JobFactorTitle',\n",
       "       'JobFactorCompanyFunding', 'JobFactorImpact', 'JobFactorRemote',\n",
       "       'JobFactorIndustry', 'JobFactorLeaderReputation', 'JobFactorDiversity',\n",
       "       'JobFactorPublishingOpportunity'],\n",
       "      dtype='object', length=228)"
      ]
     },
     "execution_count": 6,
     "metadata": {},
     "output_type": "execute_result"
    }
   ],
   "source": [
    "mcq.columns"
   ]
  },
  {
   "cell_type": "code",
   "execution_count": 7,
   "metadata": {
    "scrolled": true
   },
   "outputs": [
    {
     "data": {
      "text/html": [
       "<div>\n",
       "<style scoped>\n",
       "    .dataframe tbody tr th:only-of-type {\n",
       "        vertical-align: middle;\n",
       "    }\n",
       "\n",
       "    .dataframe tbody tr th {\n",
       "        vertical-align: top;\n",
       "    }\n",
       "\n",
       "    .dataframe thead th {\n",
       "        text-align: right;\n",
       "    }\n",
       "</style>\n",
       "<table border=\"1\" class=\"dataframe\">\n",
       "  <thead>\n",
       "    <tr style=\"text-align: right;\">\n",
       "      <th></th>\n",
       "      <th>GenderSelect</th>\n",
       "      <th>Country</th>\n",
       "      <th>Age</th>\n",
       "      <th>EmploymentStatus</th>\n",
       "      <th>StudentStatus</th>\n",
       "      <th>LearningDataScience</th>\n",
       "      <th>CodeWriter</th>\n",
       "      <th>CareerSwitcher</th>\n",
       "      <th>CurrentJobTitleSelect</th>\n",
       "      <th>TitleFit</th>\n",
       "      <th>...</th>\n",
       "      <th>JobFactorExperienceLevel</th>\n",
       "      <th>JobFactorDepartment</th>\n",
       "      <th>JobFactorTitle</th>\n",
       "      <th>JobFactorCompanyFunding</th>\n",
       "      <th>JobFactorImpact</th>\n",
       "      <th>JobFactorRemote</th>\n",
       "      <th>JobFactorIndustry</th>\n",
       "      <th>JobFactorLeaderReputation</th>\n",
       "      <th>JobFactorDiversity</th>\n",
       "      <th>JobFactorPublishingOpportunity</th>\n",
       "    </tr>\n",
       "  </thead>\n",
       "  <tbody>\n",
       "    <tr>\n",
       "      <td>0</td>\n",
       "      <td>Non-binary, genderqueer, or gender non-conforming</td>\n",
       "      <td>NaN</td>\n",
       "      <td>NaN</td>\n",
       "      <td>Employed full-time</td>\n",
       "      <td>NaN</td>\n",
       "      <td>NaN</td>\n",
       "      <td>Yes</td>\n",
       "      <td>NaN</td>\n",
       "      <td>DBA/Database Engineer</td>\n",
       "      <td>Fine</td>\n",
       "      <td>...</td>\n",
       "      <td>NaN</td>\n",
       "      <td>NaN</td>\n",
       "      <td>NaN</td>\n",
       "      <td>NaN</td>\n",
       "      <td>NaN</td>\n",
       "      <td>NaN</td>\n",
       "      <td>NaN</td>\n",
       "      <td>NaN</td>\n",
       "      <td>NaN</td>\n",
       "      <td>NaN</td>\n",
       "    </tr>\n",
       "    <tr>\n",
       "      <td>1</td>\n",
       "      <td>Female</td>\n",
       "      <td>United States</td>\n",
       "      <td>30.0</td>\n",
       "      <td>Not employed, but looking for work</td>\n",
       "      <td>NaN</td>\n",
       "      <td>NaN</td>\n",
       "      <td>NaN</td>\n",
       "      <td>NaN</td>\n",
       "      <td>NaN</td>\n",
       "      <td>NaN</td>\n",
       "      <td>...</td>\n",
       "      <td>NaN</td>\n",
       "      <td>NaN</td>\n",
       "      <td>NaN</td>\n",
       "      <td>NaN</td>\n",
       "      <td>NaN</td>\n",
       "      <td>NaN</td>\n",
       "      <td>NaN</td>\n",
       "      <td>Somewhat important</td>\n",
       "      <td>NaN</td>\n",
       "      <td>NaN</td>\n",
       "    </tr>\n",
       "    <tr>\n",
       "      <td>2</td>\n",
       "      <td>Male</td>\n",
       "      <td>Canada</td>\n",
       "      <td>28.0</td>\n",
       "      <td>Not employed, but looking for work</td>\n",
       "      <td>NaN</td>\n",
       "      <td>NaN</td>\n",
       "      <td>NaN</td>\n",
       "      <td>NaN</td>\n",
       "      <td>NaN</td>\n",
       "      <td>NaN</td>\n",
       "      <td>...</td>\n",
       "      <td>Very Important</td>\n",
       "      <td>Very Important</td>\n",
       "      <td>Very Important</td>\n",
       "      <td>Very Important</td>\n",
       "      <td>Very Important</td>\n",
       "      <td>Very Important</td>\n",
       "      <td>Very Important</td>\n",
       "      <td>Very Important</td>\n",
       "      <td>Very Important</td>\n",
       "      <td>Very Important</td>\n",
       "    </tr>\n",
       "    <tr>\n",
       "      <td>3</td>\n",
       "      <td>Male</td>\n",
       "      <td>United States</td>\n",
       "      <td>56.0</td>\n",
       "      <td>Independent contractor, freelancer, or self-em...</td>\n",
       "      <td>NaN</td>\n",
       "      <td>NaN</td>\n",
       "      <td>Yes</td>\n",
       "      <td>NaN</td>\n",
       "      <td>Operations Research Practitioner</td>\n",
       "      <td>Poorly</td>\n",
       "      <td>...</td>\n",
       "      <td>NaN</td>\n",
       "      <td>NaN</td>\n",
       "      <td>NaN</td>\n",
       "      <td>NaN</td>\n",
       "      <td>NaN</td>\n",
       "      <td>NaN</td>\n",
       "      <td>NaN</td>\n",
       "      <td>NaN</td>\n",
       "      <td>NaN</td>\n",
       "      <td>NaN</td>\n",
       "    </tr>\n",
       "    <tr>\n",
       "      <td>4</td>\n",
       "      <td>Male</td>\n",
       "      <td>Taiwan</td>\n",
       "      <td>38.0</td>\n",
       "      <td>Employed full-time</td>\n",
       "      <td>NaN</td>\n",
       "      <td>NaN</td>\n",
       "      <td>Yes</td>\n",
       "      <td>NaN</td>\n",
       "      <td>Computer Scientist</td>\n",
       "      <td>Fine</td>\n",
       "      <td>...</td>\n",
       "      <td>NaN</td>\n",
       "      <td>NaN</td>\n",
       "      <td>NaN</td>\n",
       "      <td>NaN</td>\n",
       "      <td>NaN</td>\n",
       "      <td>NaN</td>\n",
       "      <td>NaN</td>\n",
       "      <td>NaN</td>\n",
       "      <td>NaN</td>\n",
       "      <td>NaN</td>\n",
       "    </tr>\n",
       "    <tr>\n",
       "      <td>5</td>\n",
       "      <td>Male</td>\n",
       "      <td>Brazil</td>\n",
       "      <td>46.0</td>\n",
       "      <td>Employed full-time</td>\n",
       "      <td>NaN</td>\n",
       "      <td>NaN</td>\n",
       "      <td>Yes</td>\n",
       "      <td>NaN</td>\n",
       "      <td>Data Scientist</td>\n",
       "      <td>Fine</td>\n",
       "      <td>...</td>\n",
       "      <td>NaN</td>\n",
       "      <td>NaN</td>\n",
       "      <td>NaN</td>\n",
       "      <td>NaN</td>\n",
       "      <td>NaN</td>\n",
       "      <td>NaN</td>\n",
       "      <td>NaN</td>\n",
       "      <td>NaN</td>\n",
       "      <td>NaN</td>\n",
       "      <td>NaN</td>\n",
       "    </tr>\n",
       "    <tr>\n",
       "      <td>6</td>\n",
       "      <td>Male</td>\n",
       "      <td>United States</td>\n",
       "      <td>35.0</td>\n",
       "      <td>Employed full-time</td>\n",
       "      <td>NaN</td>\n",
       "      <td>NaN</td>\n",
       "      <td>Yes</td>\n",
       "      <td>NaN</td>\n",
       "      <td>Computer Scientist</td>\n",
       "      <td>Fine</td>\n",
       "      <td>...</td>\n",
       "      <td>NaN</td>\n",
       "      <td>NaN</td>\n",
       "      <td>NaN</td>\n",
       "      <td>NaN</td>\n",
       "      <td>NaN</td>\n",
       "      <td>NaN</td>\n",
       "      <td>NaN</td>\n",
       "      <td>NaN</td>\n",
       "      <td>NaN</td>\n",
       "      <td>NaN</td>\n",
       "    </tr>\n",
       "    <tr>\n",
       "      <td>7</td>\n",
       "      <td>Female</td>\n",
       "      <td>India</td>\n",
       "      <td>22.0</td>\n",
       "      <td>Employed full-time</td>\n",
       "      <td>NaN</td>\n",
       "      <td>NaN</td>\n",
       "      <td>No</td>\n",
       "      <td>Yes</td>\n",
       "      <td>Software Developer/Software Engineer</td>\n",
       "      <td>Fine</td>\n",
       "      <td>...</td>\n",
       "      <td>Very Important</td>\n",
       "      <td>Somewhat important</td>\n",
       "      <td>Very Important</td>\n",
       "      <td>Somewhat important</td>\n",
       "      <td>Somewhat important</td>\n",
       "      <td>Not important</td>\n",
       "      <td>Very Important</td>\n",
       "      <td>Very Important</td>\n",
       "      <td>Somewhat important</td>\n",
       "      <td>Somewhat important</td>\n",
       "    </tr>\n",
       "    <tr>\n",
       "      <td>8</td>\n",
       "      <td>Female</td>\n",
       "      <td>Australia</td>\n",
       "      <td>43.0</td>\n",
       "      <td>Employed full-time</td>\n",
       "      <td>NaN</td>\n",
       "      <td>NaN</td>\n",
       "      <td>Yes</td>\n",
       "      <td>NaN</td>\n",
       "      <td>Business Analyst</td>\n",
       "      <td>Fine</td>\n",
       "      <td>...</td>\n",
       "      <td>NaN</td>\n",
       "      <td>NaN</td>\n",
       "      <td>NaN</td>\n",
       "      <td>NaN</td>\n",
       "      <td>NaN</td>\n",
       "      <td>NaN</td>\n",
       "      <td>NaN</td>\n",
       "      <td>NaN</td>\n",
       "      <td>NaN</td>\n",
       "      <td>NaN</td>\n",
       "    </tr>\n",
       "    <tr>\n",
       "      <td>9</td>\n",
       "      <td>Male</td>\n",
       "      <td>Russia</td>\n",
       "      <td>33.0</td>\n",
       "      <td>Employed full-time</td>\n",
       "      <td>NaN</td>\n",
       "      <td>NaN</td>\n",
       "      <td>Yes</td>\n",
       "      <td>NaN</td>\n",
       "      <td>Software Developer/Software Engineer</td>\n",
       "      <td>Fine</td>\n",
       "      <td>...</td>\n",
       "      <td>NaN</td>\n",
       "      <td>NaN</td>\n",
       "      <td>NaN</td>\n",
       "      <td>NaN</td>\n",
       "      <td>NaN</td>\n",
       "      <td>NaN</td>\n",
       "      <td>NaN</td>\n",
       "      <td>NaN</td>\n",
       "      <td>NaN</td>\n",
       "      <td>NaN</td>\n",
       "    </tr>\n",
       "  </tbody>\n",
       "</table>\n",
       "<p>10 rows × 228 columns</p>\n",
       "</div>"
      ],
      "text/plain": [
       "                                        GenderSelect        Country   Age  \\\n",
       "0  Non-binary, genderqueer, or gender non-conforming            NaN   NaN   \n",
       "1                                             Female  United States  30.0   \n",
       "2                                               Male         Canada  28.0   \n",
       "3                                               Male  United States  56.0   \n",
       "4                                               Male         Taiwan  38.0   \n",
       "5                                               Male         Brazil  46.0   \n",
       "6                                               Male  United States  35.0   \n",
       "7                                             Female          India  22.0   \n",
       "8                                             Female      Australia  43.0   \n",
       "9                                               Male         Russia  33.0   \n",
       "\n",
       "                                    EmploymentStatus StudentStatus  \\\n",
       "0                                 Employed full-time           NaN   \n",
       "1                 Not employed, but looking for work           NaN   \n",
       "2                 Not employed, but looking for work           NaN   \n",
       "3  Independent contractor, freelancer, or self-em...           NaN   \n",
       "4                                 Employed full-time           NaN   \n",
       "5                                 Employed full-time           NaN   \n",
       "6                                 Employed full-time           NaN   \n",
       "7                                 Employed full-time           NaN   \n",
       "8                                 Employed full-time           NaN   \n",
       "9                                 Employed full-time           NaN   \n",
       "\n",
       "  LearningDataScience CodeWriter CareerSwitcher  \\\n",
       "0                 NaN        Yes            NaN   \n",
       "1                 NaN        NaN            NaN   \n",
       "2                 NaN        NaN            NaN   \n",
       "3                 NaN        Yes            NaN   \n",
       "4                 NaN        Yes            NaN   \n",
       "5                 NaN        Yes            NaN   \n",
       "6                 NaN        Yes            NaN   \n",
       "7                 NaN         No            Yes   \n",
       "8                 NaN        Yes            NaN   \n",
       "9                 NaN        Yes            NaN   \n",
       "\n",
       "                  CurrentJobTitleSelect TitleFit  ...  \\\n",
       "0                 DBA/Database Engineer     Fine  ...   \n",
       "1                                   NaN      NaN  ...   \n",
       "2                                   NaN      NaN  ...   \n",
       "3      Operations Research Practitioner   Poorly  ...   \n",
       "4                    Computer Scientist     Fine  ...   \n",
       "5                        Data Scientist     Fine  ...   \n",
       "6                    Computer Scientist     Fine  ...   \n",
       "7  Software Developer/Software Engineer     Fine  ...   \n",
       "8                      Business Analyst     Fine  ...   \n",
       "9  Software Developer/Software Engineer     Fine  ...   \n",
       "\n",
       "  JobFactorExperienceLevel JobFactorDepartment  JobFactorTitle  \\\n",
       "0                      NaN                 NaN             NaN   \n",
       "1                      NaN                 NaN             NaN   \n",
       "2           Very Important      Very Important  Very Important   \n",
       "3                      NaN                 NaN             NaN   \n",
       "4                      NaN                 NaN             NaN   \n",
       "5                      NaN                 NaN             NaN   \n",
       "6                      NaN                 NaN             NaN   \n",
       "7           Very Important  Somewhat important  Very Important   \n",
       "8                      NaN                 NaN             NaN   \n",
       "9                      NaN                 NaN             NaN   \n",
       "\n",
       "  JobFactorCompanyFunding     JobFactorImpact JobFactorRemote  \\\n",
       "0                     NaN                 NaN             NaN   \n",
       "1                     NaN                 NaN             NaN   \n",
       "2          Very Important      Very Important  Very Important   \n",
       "3                     NaN                 NaN             NaN   \n",
       "4                     NaN                 NaN             NaN   \n",
       "5                     NaN                 NaN             NaN   \n",
       "6                     NaN                 NaN             NaN   \n",
       "7      Somewhat important  Somewhat important   Not important   \n",
       "8                     NaN                 NaN             NaN   \n",
       "9                     NaN                 NaN             NaN   \n",
       "\n",
       "  JobFactorIndustry JobFactorLeaderReputation  JobFactorDiversity  \\\n",
       "0               NaN                       NaN                 NaN   \n",
       "1               NaN        Somewhat important                 NaN   \n",
       "2    Very Important            Very Important      Very Important   \n",
       "3               NaN                       NaN                 NaN   \n",
       "4               NaN                       NaN                 NaN   \n",
       "5               NaN                       NaN                 NaN   \n",
       "6               NaN                       NaN                 NaN   \n",
       "7    Very Important            Very Important  Somewhat important   \n",
       "8               NaN                       NaN                 NaN   \n",
       "9               NaN                       NaN                 NaN   \n",
       "\n",
       "  JobFactorPublishingOpportunity  \n",
       "0                            NaN  \n",
       "1                            NaN  \n",
       "2                 Very Important  \n",
       "3                            NaN  \n",
       "4                            NaN  \n",
       "5                            NaN  \n",
       "6                            NaN  \n",
       "7             Somewhat important  \n",
       "8                            NaN  \n",
       "9                            NaN  \n",
       "\n",
       "[10 rows x 228 columns]"
      ]
     },
     "execution_count": 7,
     "metadata": {},
     "output_type": "execute_result"
    }
   ],
   "source": [
    "mcq.head(10)"
   ]
  },
  {
   "cell_type": "code",
   "execution_count": 8,
   "metadata": {},
   "outputs": [
    {
     "data": {
      "text/plain": [
       "<matplotlib.axes._subplots.AxesSubplot at 0x220a2031a88>"
      ]
     },
     "execution_count": 8,
     "metadata": {},
     "output_type": "execute_result"
    },
    {
     "data": {
      "image/png": "[encoded data removed]",
      "text/plain": [
       "<Figure size 864x360 with 2 Axes>"
      ]
     },
     "metadata": {
      "needs_background": "light"
     },
     "output_type": "display_data"
    }
   ],
   "source": [
    "# missingno는 NaN 데이터들에 대해 시각화를 해준다.\n",
    "# NaN 데이터의 컬럼이 많아 아래 그래프만으로는 내용을 파악하기 어렵다. \n",
    "\n",
    "import missingno as msno\n",
    "msno.matrix(mcq, figsize=(12,5))"
   ]
  },
  {
   "cell_type": "markdown",
   "metadata": {},
   "source": [
    "# 설문통계"
   ]
  },
  {
   "cell_type": "code",
   "execution_count": 41,
   "metadata": {},
   "outputs": [],
   "source": [
    "df_gender = pd.DataFrame(mcq['GenderSelect'].value_counts())"
   ]
  },
  {
   "cell_type": "code",
   "execution_count": 43,
   "metadata": {},
   "outputs": [],
   "source": [
    "df_gender_percent = pd.DataFrame(mcq['GenderSelect'].value_counts(normalize=True))"
   ]
  },
  {
   "cell_type": "code",
   "execution_count": 47,
   "metadata": {},
   "outputs": [
    {
     "data": {
      "text/html": [
       "<div>\n",
       "<style scoped>\n",
       "    .dataframe tbody tr th:only-of-type {\n",
       "        vertical-align: middle;\n",
       "    }\n",
       "\n",
       "    .dataframe tbody tr th {\n",
       "        vertical-align: top;\n",
       "    }\n",
       "\n",
       "    .dataframe thead th {\n",
       "        text-align: right;\n",
       "    }\n",
       "</style>\n",
       "<table border=\"1\" class=\"dataframe\">\n",
       "  <thead>\n",
       "    <tr style=\"text-align: right;\">\n",
       "      <th></th>\n",
       "      <th>응답수</th>\n",
       "      <th>비율</th>\n",
       "    </tr>\n",
       "  </thead>\n",
       "  <tbody>\n",
       "    <tr>\n",
       "      <td>Male</td>\n",
       "      <td>13610</td>\n",
       "      <td>0.818844</td>\n",
       "    </tr>\n",
       "    <tr>\n",
       "      <td>Female</td>\n",
       "      <td>2778</td>\n",
       "      <td>0.167138</td>\n",
       "    </tr>\n",
       "    <tr>\n",
       "      <td>A different identity</td>\n",
       "      <td>159</td>\n",
       "      <td>0.009566</td>\n",
       "    </tr>\n",
       "    <tr>\n",
       "      <td>Non-binary, genderqueer, or gender non-conforming</td>\n",
       "      <td>74</td>\n",
       "      <td>0.004452</td>\n",
       "    </tr>\n",
       "  </tbody>\n",
       "</table>\n",
       "</div>"
      ],
      "text/plain": [
       "                                                     응답수        비율\n",
       "Male                                               13610  0.818844\n",
       "Female                                              2778  0.167138\n",
       "A different identity                                 159  0.009566\n",
       "Non-binary, genderqueer, or gender non-conforming     74  0.004452"
      ]
     },
     "execution_count": 47,
     "metadata": {},
     "output_type": "execute_result"
    }
   ],
   "source": [
    "df_gender_merge = df_gender.merge(df_gender_percent, left_index=True, right_index=True)\n",
    "\n",
    "df_gender_merge.columns = ['응답수', '비율']\n",
    "\n",
    "df_gender_merge"
   ]
  },
  {
   "cell_type": "code",
   "execution_count": 10,
   "metadata": {},
   "outputs": [
    {
     "data": {
      "text/plain": [
       "<matplotlib.axes._subplots.AxesSubplot at 0x220a8d5da48>"
      ]
     },
     "execution_count": 10,
     "metadata": {},
     "output_type": "execute_result"
    },
    {
     "data": {
      "image/png": "[encoded data removed]",
      "text/plain": [
       "<Figure size 432x288 with 1 Axes>"
      ]
     },
     "metadata": {
      "needs_background": "light"
     },
     "output_type": "display_data"
    }
   ],
   "source": [
    "# 성별\n",
    "sns.countplot(y='GenderSelect', data=mcq)"
   ]
  },
  {
   "cell_type": "markdown",
   "metadata": {},
   "source": [
    "여성보다는 남성의 비율이 훨씬 높은 편이다."
   ]
  },
  {
   "cell_type": "code",
   "execution_count": 11,
   "metadata": {},
   "outputs": [
    {
     "data": {
      "text/html": [
       "<div>\n",
       "<style scoped>\n",
       "    .dataframe tbody tr th:only-of-type {\n",
       "        vertical-align: middle;\n",
       "    }\n",
       "\n",
       "    .dataframe tbody tr th {\n",
       "        vertical-align: top;\n",
       "    }\n",
       "\n",
       "    .dataframe thead th {\n",
       "        text-align: right;\n",
       "    }\n",
       "</style>\n",
       "<table border=\"1\" class=\"dataframe\">\n",
       "  <thead>\n",
       "    <tr style=\"text-align: right;\">\n",
       "      <th></th>\n",
       "      <th>응답수</th>\n",
       "      <th>국가</th>\n",
       "    </tr>\n",
       "  </thead>\n",
       "  <tbody>\n",
       "    <tr>\n",
       "      <td>0</td>\n",
       "      <td>4197</td>\n",
       "      <td>United States</td>\n",
       "    </tr>\n",
       "    <tr>\n",
       "      <td>1</td>\n",
       "      <td>2704</td>\n",
       "      <td>India</td>\n",
       "    </tr>\n",
       "    <tr>\n",
       "      <td>2</td>\n",
       "      <td>1023</td>\n",
       "      <td>Other</td>\n",
       "    </tr>\n",
       "    <tr>\n",
       "      <td>3</td>\n",
       "      <td>578</td>\n",
       "      <td>Russia</td>\n",
       "    </tr>\n",
       "    <tr>\n",
       "      <td>4</td>\n",
       "      <td>535</td>\n",
       "      <td>United Kingdom</td>\n",
       "    </tr>\n",
       "    <tr>\n",
       "      <td>5</td>\n",
       "      <td>471</td>\n",
       "      <td>People 's Republic of China</td>\n",
       "    </tr>\n",
       "    <tr>\n",
       "      <td>6</td>\n",
       "      <td>465</td>\n",
       "      <td>Brazil</td>\n",
       "    </tr>\n",
       "    <tr>\n",
       "      <td>7</td>\n",
       "      <td>460</td>\n",
       "      <td>Germany</td>\n",
       "    </tr>\n",
       "    <tr>\n",
       "      <td>8</td>\n",
       "      <td>442</td>\n",
       "      <td>France</td>\n",
       "    </tr>\n",
       "    <tr>\n",
       "      <td>9</td>\n",
       "      <td>440</td>\n",
       "      <td>Canada</td>\n",
       "    </tr>\n",
       "    <tr>\n",
       "      <td>10</td>\n",
       "      <td>421</td>\n",
       "      <td>Australia</td>\n",
       "    </tr>\n",
       "    <tr>\n",
       "      <td>11</td>\n",
       "      <td>320</td>\n",
       "      <td>Spain</td>\n",
       "    </tr>\n",
       "    <tr>\n",
       "      <td>12</td>\n",
       "      <td>277</td>\n",
       "      <td>Japan</td>\n",
       "    </tr>\n",
       "    <tr>\n",
       "      <td>13</td>\n",
       "      <td>254</td>\n",
       "      <td>Taiwan</td>\n",
       "    </tr>\n",
       "    <tr>\n",
       "      <td>14</td>\n",
       "      <td>238</td>\n",
       "      <td>Italy</td>\n",
       "    </tr>\n",
       "    <tr>\n",
       "      <td>15</td>\n",
       "      <td>205</td>\n",
       "      <td>Netherlands</td>\n",
       "    </tr>\n",
       "    <tr>\n",
       "      <td>16</td>\n",
       "      <td>196</td>\n",
       "      <td>Ukraine</td>\n",
       "    </tr>\n",
       "    <tr>\n",
       "      <td>17</td>\n",
       "      <td>194</td>\n",
       "      <td>South Korea</td>\n",
       "    </tr>\n",
       "    <tr>\n",
       "      <td>18</td>\n",
       "      <td>184</td>\n",
       "      <td>Singapore</td>\n",
       "    </tr>\n",
       "    <tr>\n",
       "      <td>19</td>\n",
       "      <td>184</td>\n",
       "      <td>Poland</td>\n",
       "    </tr>\n",
       "    <tr>\n",
       "      <td>20</td>\n",
       "      <td>161</td>\n",
       "      <td>Pakistan</td>\n",
       "    </tr>\n",
       "    <tr>\n",
       "      <td>21</td>\n",
       "      <td>144</td>\n",
       "      <td>Turkey</td>\n",
       "    </tr>\n",
       "    <tr>\n",
       "      <td>22</td>\n",
       "      <td>131</td>\n",
       "      <td>Indonesia</td>\n",
       "    </tr>\n",
       "    <tr>\n",
       "      <td>23</td>\n",
       "      <td>129</td>\n",
       "      <td>Switzerland</td>\n",
       "    </tr>\n",
       "    <tr>\n",
       "      <td>24</td>\n",
       "      <td>127</td>\n",
       "      <td>South Africa</td>\n",
       "    </tr>\n",
       "    <tr>\n",
       "      <td>25</td>\n",
       "      <td>126</td>\n",
       "      <td>Mexico</td>\n",
       "    </tr>\n",
       "    <tr>\n",
       "      <td>26</td>\n",
       "      <td>113</td>\n",
       "      <td>Colombia</td>\n",
       "    </tr>\n",
       "    <tr>\n",
       "      <td>27</td>\n",
       "      <td>112</td>\n",
       "      <td>Iran</td>\n",
       "    </tr>\n",
       "    <tr>\n",
       "      <td>28</td>\n",
       "      <td>105</td>\n",
       "      <td>Israel</td>\n",
       "    </tr>\n",
       "    <tr>\n",
       "      <td>29</td>\n",
       "      <td>94</td>\n",
       "      <td>Ireland</td>\n",
       "    </tr>\n",
       "    <tr>\n",
       "      <td>30</td>\n",
       "      <td>93</td>\n",
       "      <td>Portugal</td>\n",
       "    </tr>\n",
       "    <tr>\n",
       "      <td>31</td>\n",
       "      <td>92</td>\n",
       "      <td>Argentina</td>\n",
       "    </tr>\n",
       "    <tr>\n",
       "      <td>32</td>\n",
       "      <td>91</td>\n",
       "      <td>Belgium</td>\n",
       "    </tr>\n",
       "    <tr>\n",
       "      <td>33</td>\n",
       "      <td>89</td>\n",
       "      <td>Sweden</td>\n",
       "    </tr>\n",
       "    <tr>\n",
       "      <td>34</td>\n",
       "      <td>84</td>\n",
       "      <td>Philippines</td>\n",
       "    </tr>\n",
       "    <tr>\n",
       "      <td>35</td>\n",
       "      <td>81</td>\n",
       "      <td>Greece</td>\n",
       "    </tr>\n",
       "    <tr>\n",
       "      <td>36</td>\n",
       "      <td>79</td>\n",
       "      <td>Malaysia</td>\n",
       "    </tr>\n",
       "    <tr>\n",
       "      <td>37</td>\n",
       "      <td>78</td>\n",
       "      <td>Denmark</td>\n",
       "    </tr>\n",
       "    <tr>\n",
       "      <td>38</td>\n",
       "      <td>74</td>\n",
       "      <td>New Zealand</td>\n",
       "    </tr>\n",
       "    <tr>\n",
       "      <td>39</td>\n",
       "      <td>73</td>\n",
       "      <td>Nigeria</td>\n",
       "    </tr>\n",
       "    <tr>\n",
       "      <td>40</td>\n",
       "      <td>71</td>\n",
       "      <td>Vietnam</td>\n",
       "    </tr>\n",
       "    <tr>\n",
       "      <td>41</td>\n",
       "      <td>67</td>\n",
       "      <td>Finland</td>\n",
       "    </tr>\n",
       "    <tr>\n",
       "      <td>42</td>\n",
       "      <td>67</td>\n",
       "      <td>Republic of China</td>\n",
       "    </tr>\n",
       "    <tr>\n",
       "      <td>43</td>\n",
       "      <td>66</td>\n",
       "      <td>Egypt</td>\n",
       "    </tr>\n",
       "    <tr>\n",
       "      <td>44</td>\n",
       "      <td>66</td>\n",
       "      <td>Hungary</td>\n",
       "    </tr>\n",
       "    <tr>\n",
       "      <td>45</td>\n",
       "      <td>65</td>\n",
       "      <td>Hong Kong</td>\n",
       "    </tr>\n",
       "    <tr>\n",
       "      <td>46</td>\n",
       "      <td>59</td>\n",
       "      <td>Romania</td>\n",
       "    </tr>\n",
       "    <tr>\n",
       "      <td>47</td>\n",
       "      <td>59</td>\n",
       "      <td>Kenya</td>\n",
       "    </tr>\n",
       "    <tr>\n",
       "      <td>48</td>\n",
       "      <td>54</td>\n",
       "      <td>Belarus</td>\n",
       "    </tr>\n",
       "    <tr>\n",
       "      <td>49</td>\n",
       "      <td>53</td>\n",
       "      <td>Norway</td>\n",
       "    </tr>\n",
       "    <tr>\n",
       "      <td>50</td>\n",
       "      <td>53</td>\n",
       "      <td>Czech Republic</td>\n",
       "    </tr>\n",
       "    <tr>\n",
       "      <td>51</td>\n",
       "      <td>51</td>\n",
       "      <td>Chile</td>\n",
       "    </tr>\n",
       "  </tbody>\n",
       "</table>\n",
       "</div>"
      ],
      "text/plain": [
       "     응답수                           국가\n",
       "0   4197                United States\n",
       "1   2704                        India\n",
       "2   1023                        Other\n",
       "3    578                       Russia\n",
       "4    535               United Kingdom\n",
       "5    471  People 's Republic of China\n",
       "6    465                       Brazil\n",
       "7    460                      Germany\n",
       "8    442                       France\n",
       "9    440                       Canada\n",
       "10   421                    Australia\n",
       "11   320                        Spain\n",
       "12   277                        Japan\n",
       "13   254                       Taiwan\n",
       "14   238                        Italy\n",
       "15   205                  Netherlands\n",
       "16   196                      Ukraine\n",
       "17   194                  South Korea\n",
       "18   184                    Singapore\n",
       "19   184                       Poland\n",
       "20   161                     Pakistan\n",
       "21   144                       Turkey\n",
       "22   131                    Indonesia\n",
       "23   129                  Switzerland\n",
       "24   127                 South Africa\n",
       "25   126                       Mexico\n",
       "26   113                     Colombia\n",
       "27   112                         Iran\n",
       "28   105                       Israel\n",
       "29    94                      Ireland\n",
       "30    93                     Portugal\n",
       "31    92                    Argentina\n",
       "32    91                      Belgium\n",
       "33    89                       Sweden\n",
       "34    84                  Philippines\n",
       "35    81                       Greece\n",
       "36    79                     Malaysia\n",
       "37    78                      Denmark\n",
       "38    74                  New Zealand\n",
       "39    73                      Nigeria\n",
       "40    71                      Vietnam\n",
       "41    67                      Finland\n",
       "42    67            Republic of China\n",
       "43    66                        Egypt\n",
       "44    66                      Hungary\n",
       "45    65                    Hong Kong\n",
       "46    59                      Romania\n",
       "47    59                        Kenya\n",
       "48    54                      Belarus\n",
       "49    53                       Norway\n",
       "50    53               Czech Republic\n",
       "51    51                        Chile"
      ]
     },
     "execution_count": 11,
     "metadata": {},
     "output_type": "execute_result"
    }
   ],
   "source": [
    "# 국가별 응답수 \n",
    "con_df = pd.DataFrame(mcq['Country'].value_counts())\n",
    "\n",
    "# country 컬럼을 인덱스로 지정 \n",
    "con_df['국가'] = con_df.index\n",
    "\n",
    "con_df.columns=['응답수', '국가']\n",
    "# index컬럼을 삭제하고 순위를 알기위해 reset_index()를 해준다. \n",
    "\n",
    "con_df = con_df.reset_index().drop('index', axis=1)\n",
    "con_df\n"
   ]
  },
  {
   "cell_type": "code",
   "execution_count": 12,
   "metadata": {},
   "outputs": [
    {
     "data": {
      "text/plain": [
       "count    16385.000000\n",
       "mean        32.372841\n",
       "std         10.473487\n",
       "min          0.000000\n",
       "25%         25.000000\n",
       "50%         30.000000\n",
       "75%         37.000000\n",
       "max        100.000000\n",
       "Name: Age, dtype: float64"
      ]
     },
     "execution_count": 12,
     "metadata": {},
     "output_type": "execute_result"
    }
   ],
   "source": [
    "# 연령에 대한 정보를 본다.\n",
    "mcq['Age'].describe()"
   ]
  },
  {
   "cell_type": "code",
   "execution_count": 13,
   "metadata": {},
   "outputs": [
    {
     "data": {
      "text/plain": [
       "<matplotlib.axes._subplots.AxesSubplot at 0x220a1c91e48>"
      ]
     },
     "execution_count": 13,
     "metadata": {},
     "output_type": "execute_result"
    },
    {
     "data": {
      "image/png": "[encoded data removed]",
      "text/plain": [
       "<Figure size 432x288 with 1 Axes>"
      ]
     },
     "metadata": {
      "needs_background": "light"
     },
     "output_type": "display_data"
    }
   ],
   "source": [
    "sns.distplot(mcq[mcq['Age'] > 0]['Age'])\n",
    "\n"
   ]
  },
  {
   "cell_type": "markdown",
   "metadata": {},
   "source": [
    "응답자 대부분이 20, 30대 정도. 20대 부터 급격히 늘어나며, 30대가 가장많다. 평균 나이는 32세 "
   ]
  },
  {
   "cell_type": "markdown",
   "metadata": {},
   "source": [
    "# 학력"
   ]
  },
  {
   "cell_type": "code",
   "execution_count": 14,
   "metadata": {},
   "outputs": [
    {
     "data": {
      "text/plain": [
       "<matplotlib.axes._subplots.AxesSubplot at 0x220a1ce9548>"
      ]
     },
     "execution_count": 14,
     "metadata": {},
     "output_type": "execute_result"
    },
    {
     "data": {
      "image/png": "[encoded data removed]",
      "text/plain": [
       "<Figure size 432x288 with 1 Axes>"
      ]
     },
     "metadata": {
      "needs_background": "light"
     },
     "output_type": "display_data"
    }
   ],
   "source": [
    "sns.countplot(data=mcq, y='FormalEducation')"
   ]
  },
  {
   "cell_type": "markdown",
   "metadata": {},
   "source": [
    "학사보다 석사 학위가 더 많으며, 박사 학위를 가진 사람들도 많다. "
   ]
  },
  {
   "cell_type": "markdown",
   "metadata": {},
   "source": [
    "# 전공"
   ]
  },
  {
   "cell_type": "code",
   "execution_count": 15,
   "metadata": {},
   "outputs": [
    {
     "data": {
      "text/html": [
       "<div>\n",
       "<style scoped>\n",
       "    .dataframe tbody tr th:only-of-type {\n",
       "        vertical-align: middle;\n",
       "    }\n",
       "\n",
       "    .dataframe tbody tr th {\n",
       "        vertical-align: top;\n",
       "    }\n",
       "\n",
       "    .dataframe thead th {\n",
       "        text-align: right;\n",
       "    }\n",
       "</style>\n",
       "<table border=\"1\" class=\"dataframe\">\n",
       "  <thead>\n",
       "    <tr style=\"text-align: right;\">\n",
       "      <th></th>\n",
       "      <th>응답수</th>\n",
       "      <th>비율</th>\n",
       "    </tr>\n",
       "  </thead>\n",
       "  <tbody>\n",
       "    <tr>\n",
       "      <td>Computer Science</td>\n",
       "      <td>4397</td>\n",
       "      <td>0.331074</td>\n",
       "    </tr>\n",
       "    <tr>\n",
       "      <td>Mathematics or statistics</td>\n",
       "      <td>2220</td>\n",
       "      <td>0.167156</td>\n",
       "    </tr>\n",
       "    <tr>\n",
       "      <td>Engineering (non-computer focused)</td>\n",
       "      <td>1339</td>\n",
       "      <td>0.100821</td>\n",
       "    </tr>\n",
       "    <tr>\n",
       "      <td>Electrical Engineering</td>\n",
       "      <td>1303</td>\n",
       "      <td>0.098110</td>\n",
       "    </tr>\n",
       "    <tr>\n",
       "      <td>Other</td>\n",
       "      <td>848</td>\n",
       "      <td>0.063851</td>\n",
       "    </tr>\n",
       "    <tr>\n",
       "      <td>Physics</td>\n",
       "      <td>830</td>\n",
       "      <td>0.062495</td>\n",
       "    </tr>\n",
       "    <tr>\n",
       "      <td>Information technology, networking, or system administration</td>\n",
       "      <td>693</td>\n",
       "      <td>0.052180</td>\n",
       "    </tr>\n",
       "    <tr>\n",
       "      <td>A social science</td>\n",
       "      <td>531</td>\n",
       "      <td>0.039982</td>\n",
       "    </tr>\n",
       "    <tr>\n",
       "      <td>Biology</td>\n",
       "      <td>274</td>\n",
       "      <td>0.020631</td>\n",
       "    </tr>\n",
       "    <tr>\n",
       "      <td>Management information systems</td>\n",
       "      <td>237</td>\n",
       "      <td>0.017845</td>\n",
       "    </tr>\n",
       "    <tr>\n",
       "      <td>A humanities discipline</td>\n",
       "      <td>198</td>\n",
       "      <td>0.014909</td>\n",
       "    </tr>\n",
       "    <tr>\n",
       "      <td>A health science</td>\n",
       "      <td>152</td>\n",
       "      <td>0.011445</td>\n",
       "    </tr>\n",
       "    <tr>\n",
       "      <td>Psychology</td>\n",
       "      <td>137</td>\n",
       "      <td>0.010315</td>\n",
       "    </tr>\n",
       "    <tr>\n",
       "      <td>I never declared a major</td>\n",
       "      <td>65</td>\n",
       "      <td>0.004894</td>\n",
       "    </tr>\n",
       "    <tr>\n",
       "      <td>Fine arts or performing arts</td>\n",
       "      <td>57</td>\n",
       "      <td>0.004292</td>\n",
       "    </tr>\n",
       "  </tbody>\n",
       "</table>\n",
       "</div>"
      ],
      "text/plain": [
       "                                                     응답수        비율\n",
       "Computer Science                                    4397  0.331074\n",
       "Mathematics or statistics                           2220  0.167156\n",
       "Engineering (non-computer focused)                  1339  0.100821\n",
       "Electrical Engineering                              1303  0.098110\n",
       "Other                                                848  0.063851\n",
       "Physics                                              830  0.062495\n",
       "Information technology, networking, or system a...   693  0.052180\n",
       "A social science                                     531  0.039982\n",
       "Biology                                              274  0.020631\n",
       "Management information systems                       237  0.017845\n",
       "A humanities discipline                              198  0.014909\n",
       "A health science                                     152  0.011445\n",
       "Psychology                                           137  0.010315\n",
       "I never declared a major                              65  0.004894\n",
       "Fine arts or performing arts                          57  0.004292"
      ]
     },
     "execution_count": 15,
     "metadata": {},
     "output_type": "execute_result"
    }
   ],
   "source": [
    "# value_counts를 사용하면 그룹화 된 데이터의 카운트 값을 보여준다.\n",
    "# normalize=True 옵션은 비율을 보여준다. \n",
    "mcq_major_count = pd.DataFrame(\n",
    "    mcq['MajorSelect'].value_counts())\n",
    "\n",
    "mcq_major_percent = pd.DataFrame(\n",
    "    mcq['MajorSelect'].value_counts(normalize=True))\n",
    "\n",
    "mcq_major_percent\n",
    "mcq_major_df = mcq_major_count.merge(\n",
    "    mcq_major_percent, left_index=True, right_index=True)\n",
    "\n",
    "\n",
    "mcq_major_df.columns = ['응답수', '비율']\n",
    "\n",
    "\n",
    "mcq_major_df"
   ]
  },
  {
   "cell_type": "markdown",
   "metadata": {},
   "source": [
    "컴퓨터 전공자들이 33%로 가장 많으며, 다음으로 수학, 공학, 순이다."
   ]
  },
  {
   "cell_type": "code",
   "execution_count": 16,
   "metadata": {},
   "outputs": [
    {
     "data": {
      "text/plain": [
       "<matplotlib.axes._subplots.AxesSubplot at 0x220a1fc0f88>"
      ]
     },
     "execution_count": 16,
     "metadata": {},
     "output_type": "execute_result"
    },
    {
     "data": {
      "image/png": "[encoded data removed]",
      "text/plain": [
       "<Figure size 720x288 with 1 Axes>"
      ]
     },
     "metadata": {
      "needs_background": "light"
     },
     "output_type": "display_data"
    }
   ],
   "source": [
    "# 재학중인 사람들의 전공현황 \n",
    "\n",
    "plt.figure(figsize=(10,4))\n",
    "sns.countplot(data=mcq, y='MajorSelect')"
   ]
  },
  {
   "cell_type": "markdown",
   "metadata": {},
   "source": [
    "# 취업여부"
   ]
  },
  {
   "cell_type": "code",
   "execution_count": 17,
   "metadata": {},
   "outputs": [
    {
     "data": {
      "text/html": [
       "<div>\n",
       "<style scoped>\n",
       "    .dataframe tbody tr th:only-of-type {\n",
       "        vertical-align: middle;\n",
       "    }\n",
       "\n",
       "    .dataframe tbody tr th {\n",
       "        vertical-align: top;\n",
       "    }\n",
       "\n",
       "    .dataframe thead th {\n",
       "        text-align: right;\n",
       "    }\n",
       "</style>\n",
       "<table border=\"1\" class=\"dataframe\">\n",
       "  <thead>\n",
       "    <tr style=\"text-align: right;\">\n",
       "      <th></th>\n",
       "      <th>응답수</th>\n",
       "      <th>비율</th>\n",
       "    </tr>\n",
       "  </thead>\n",
       "  <tbody>\n",
       "    <tr>\n",
       "      <td>Employed full-time</td>\n",
       "      <td>10897</td>\n",
       "      <td>0.651890</td>\n",
       "    </tr>\n",
       "    <tr>\n",
       "      <td>Not employed, but looking for work</td>\n",
       "      <td>2110</td>\n",
       "      <td>0.126226</td>\n",
       "    </tr>\n",
       "    <tr>\n",
       "      <td>Independent contractor, freelancer, or self-employed</td>\n",
       "      <td>1330</td>\n",
       "      <td>0.079564</td>\n",
       "    </tr>\n",
       "    <tr>\n",
       "      <td>Not employed, and not looking for work</td>\n",
       "      <td>924</td>\n",
       "      <td>0.055276</td>\n",
       "    </tr>\n",
       "    <tr>\n",
       "      <td>Employed part-time</td>\n",
       "      <td>917</td>\n",
       "      <td>0.054858</td>\n",
       "    </tr>\n",
       "    <tr>\n",
       "      <td>I prefer not to say</td>\n",
       "      <td>420</td>\n",
       "      <td>0.025126</td>\n",
       "    </tr>\n",
       "    <tr>\n",
       "      <td>Retired</td>\n",
       "      <td>118</td>\n",
       "      <td>0.007059</td>\n",
       "    </tr>\n",
       "  </tbody>\n",
       "</table>\n",
       "</div>"
      ],
      "text/plain": [
       "                                                      응답수        비율\n",
       "Employed full-time                                  10897  0.651890\n",
       "Not employed, but looking for work                   2110  0.126226\n",
       "Independent contractor, freelancer, or self-emp...   1330  0.079564\n",
       "Not employed, and not looking for work                924  0.055276\n",
       "Employed part-time                                    917  0.054858\n",
       "I prefer not to say                                   420  0.025126\n",
       "Retired                                               118  0.007059"
      ]
     },
     "execution_count": 17,
     "metadata": {},
     "output_type": "execute_result"
    }
   ],
   "source": [
    "mcq_es_count = pd.DataFrame(\n",
    "    mcq['EmploymentStatus'].value_counts())\n",
    "\n",
    "mcq_es_percent = pd.DataFrame(\n",
    "    mcq['EmploymentStatus'].value_counts(normalize=True))\n",
    "\n",
    "mcq_es_percent\n",
    "mcq_es_df = mcq_es_count.merge(\n",
    "    mcq_es_percent, left_index=True, right_index=True)\n",
    "\n",
    "\n",
    "mcq_es_df.columns = ['응답수', '비율']\n",
    "\n",
    "\n",
    "mcq_es_df"
   ]
  },
  {
   "cell_type": "code",
   "execution_count": 18,
   "metadata": {},
   "outputs": [
    {
     "data": {
      "text/plain": [
       "<matplotlib.axes._subplots.AxesSubplot at 0x220a1d9ab08>"
      ]
     },
     "execution_count": 18,
     "metadata": {},
     "output_type": "execute_result"
    },
    {
     "data": {
      "image/png": "[encoded data removed]",
      "text/plain": [
       "<Figure size 720x288 with 1 Axes>"
      ]
     },
     "metadata": {
      "needs_background": "light"
     },
     "output_type": "display_data"
    }
   ],
   "source": [
    "plt.figure(figsize=(10,4))\n",
    "sns.countplot(data=mcq, y='EmploymentStatus')"
   ]
  },
  {
   "cell_type": "markdown",
   "metadata": {},
   "source": [
    "응답자의 65%가 풀타임으로 일하고 있으며, 그 다음으로 구직자가 12%이다."
   ]
  },
  {
   "cell_type": "markdown",
   "metadata": {},
   "source": [
    "# 프로그래밍 경험\n",
    "* Tenure 항목은 데이터사이언스 분야에서 코딩 경험이 얼마나 되는지 대한 질문, 대부분 5년미만이며, 1-2년의 경험을 가진 사람들이 많다. "
   ]
  },
  {
   "cell_type": "code",
   "execution_count": 19,
   "metadata": {},
   "outputs": [
    {
     "data": {
      "text/plain": [
       "<matplotlib.axes._subplots.AxesSubplot at 0x220a1e35e48>"
      ]
     },
     "execution_count": 19,
     "metadata": {},
     "output_type": "execute_result"
    },
    {
     "data": {
      "image/png": "[encoded data removed]",
      "text/plain": [
       "<Figure size 432x288 with 1 Axes>"
      ]
     },
     "metadata": {
      "needs_background": "light"
     },
     "output_type": "display_data"
    }
   ],
   "source": [
    "sns.countplot(data=mcq, y='Tenure')"
   ]
  },
  {
   "cell_type": "markdown",
   "metadata": {},
   "source": [
    "# 한국인 표본 분석"
   ]
  },
  {
   "cell_type": "markdown",
   "metadata": {},
   "source": [
    "## 연령대"
   ]
  },
  {
   "cell_type": "code",
   "execution_count": 20,
   "metadata": {},
   "outputs": [
    {
     "name": "stdout",
     "output_type": "stream",
     "text": [
      "The number of interviewees in Korea: 194\n"
     ]
    },
    {
     "data": {
      "image/png": "[encoded data removed]",
      "text/plain": [
       "<Figure size 432x288 with 1 Axes>"
      ]
     },
     "metadata": {
      "needs_background": "light"
     },
     "output_type": "display_data"
    }
   ],
   "source": [
    "korea = mcq.loc[(mcq['Country'] == 'South Korea')]\n",
    "\n",
    "\n",
    "print('The number of interviewees in Korea: ' + str(korea.shape[0]))\n",
    "\n",
    "sns.distplot(korea['Age'].dropna())\n",
    "plt.title('Korean')\n",
    "plt.show()"
   ]
  },
  {
   "cell_type": "markdown",
   "metadata": {},
   "source": [
    "## 성별\n"
   ]
  },
  {
   "cell_type": "code",
   "execution_count": 21,
   "metadata": {},
   "outputs": [
    {
     "data": {
      "text/html": [
       "<div>\n",
       "<style scoped>\n",
       "    .dataframe tbody tr th:only-of-type {\n",
       "        vertical-align: middle;\n",
       "    }\n",
       "\n",
       "    .dataframe tbody tr th {\n",
       "        vertical-align: top;\n",
       "    }\n",
       "\n",
       "    .dataframe thead th {\n",
       "        text-align: right;\n",
       "    }\n",
       "</style>\n",
       "<table border=\"1\" class=\"dataframe\">\n",
       "  <thead>\n",
       "    <tr style=\"text-align: right;\">\n",
       "      <th></th>\n",
       "      <th>GenderSelect</th>\n",
       "    </tr>\n",
       "  </thead>\n",
       "  <tbody>\n",
       "    <tr>\n",
       "      <td>Male</td>\n",
       "      <td>156</td>\n",
       "    </tr>\n",
       "    <tr>\n",
       "      <td>Female</td>\n",
       "      <td>37</td>\n",
       "    </tr>\n",
       "    <tr>\n",
       "      <td>A different identity</td>\n",
       "      <td>1</td>\n",
       "    </tr>\n",
       "  </tbody>\n",
       "</table>\n",
       "</div>"
      ],
      "text/plain": [
       "                      GenderSelect\n",
       "Male                           156\n",
       "Female                          37\n",
       "A different identity             1"
      ]
     },
     "execution_count": 21,
     "metadata": {},
     "output_type": "execute_result"
    }
   ],
   "source": [
    "pd.DataFrame(korea['GenderSelect'].value_counts())"
   ]
  },
  {
   "cell_type": "code",
   "execution_count": 22,
   "metadata": {},
   "outputs": [
    {
     "data": {
      "text/plain": [
       "Text(0.5, 1.0, 'Korean')"
      ]
     },
     "execution_count": 22,
     "metadata": {},
     "output_type": "execute_result"
    },
    {
     "data": {
      "image/png": "[encoded data removed]",
      "text/plain": [
       "<Figure size 432x288 with 1 Axes>"
      ]
     },
     "metadata": {
      "needs_background": "light"
     },
     "output_type": "display_data"
    }
   ],
   "source": [
    "sns.countplot(data=korea, x='GenderSelect')\n",
    "plt.title('Korean')\n"
   ]
  },
  {
   "cell_type": "code",
   "execution_count": 23,
   "metadata": {
    "scrolled": false
   },
   "outputs": [
    {
     "data": {
      "image/png": "[encoded data removed]",
      "text/plain": [
       "<Figure size 864x360 with 2 Axes>"
      ]
     },
     "metadata": {
      "needs_background": "light"
     },
     "output_type": "display_data"
    }
   ],
   "source": [
    "figure, (ax1, ax2) = plt.subplots(ncols=2)\n",
    "\n",
    "figure.set_size_inches(12,5)\n",
    "sns.distplot(korea['Age'].loc[korea['GenderSelect']=='Female'].dropna(),\n",
    "            norm_hist=False, color=sns.color_palette('Paired')[4], ax=ax1)\n",
    "ax1.title.set_text('Korean Female')\n",
    "\n",
    "sns.distplot(korea['Age'].loc[korea['GenderSelect']=='Male'].dropna(),\n",
    "            norm_hist=False, color=sns.color_palette('Paired')[0], ax=ax2)\n",
    "ax2.title.set_text('Korean Male')"
   ]
  },
  {
   "cell_type": "markdown",
   "metadata": {},
   "source": [
    "## 취업여부"
   ]
  },
  {
   "cell_type": "code",
   "execution_count": 24,
   "metadata": {},
   "outputs": [
    {
     "data": {
      "image/png": "[encoded data removed]",
      "text/plain": [
       "<Figure size 576x288 with 1 Axes>"
      ]
     },
     "metadata": {
      "needs_background": "light"
     },
     "output_type": "display_data"
    }
   ],
   "source": [
    "plt.figure(figsize=(8,4))\n",
    "sns.barplot(x=korea['EmploymentStatus'].unique()\n",
    "            , y=korea['EmploymentStatus'].value_counts(normalize=True))\n",
    "plt.xticks(rotation=30, ha='right')\n",
    "\n",
    "plt.ylabel('')\n",
    "plt.title('Emplotment status of the korean')\n",
    "plt.show()"
   ]
  },
  {
   "cell_type": "code",
   "execution_count": 25,
   "metadata": {},
   "outputs": [],
   "source": [
    "## 학생여부"
   ]
  },
  {
   "cell_type": "code",
   "execution_count": 26,
   "metadata": {},
   "outputs": [
    {
     "data": {
      "image/png": "[encoded data removed]",
      "text/plain": [
       "<Figure size 432x288 with 1 Axes>"
      ]
     },
     "metadata": {
      "needs_background": "light"
     },
     "output_type": "display_data"
    }
   ],
   "source": [
    "korea['StudentStatus'] = korea['StudentStatus'].fillna('No')\n",
    "sns.countplot(data=korea, x='StudentStatus')\n",
    "plt.title('korean')\n",
    "plt.show()"
   ]
  },
  {
   "cell_type": "markdown",
   "metadata": {},
   "source": [
    "# 자주 묻는 질문 FAQ\n",
    "* 초보들이 묻는 가장 일반적인 질문에 대한 답을 시각화 해본다.\n"
   ]
  },
  {
   "cell_type": "markdown",
   "metadata": {},
   "source": [
    "## Q1. Python과 R중 어떤 언어를 배워야 할까요?"
   ]
  },
  {
   "cell_type": "code",
   "execution_count": 27,
   "metadata": {},
   "outputs": [
    {
     "data": {
      "text/plain": [
       "<matplotlib.axes._subplots.AxesSubplot at 0x220a39bc7c8>"
      ]
     },
     "execution_count": 27,
     "metadata": {},
     "output_type": "execute_result"
    },
    {
     "data": {
      "image/png": "[encoded data removed]",
      "text/plain": [
       "<Figure size 432x288 with 1 Axes>"
      ]
     },
     "metadata": {
      "needs_background": "light"
     },
     "output_type": "display_data"
    }
   ],
   "source": [
    "sns.countplot(data=mcq, y='LanguageRecommendationSelect')"
   ]
  },
  {
   "cell_type": "markdown",
   "metadata": {},
   "source": [
    "전문가들이 선호하는 언어를 알아본다"
   ]
  },
  {
   "cell_type": "code",
   "execution_count": 28,
   "metadata": {},
   "outputs": [
    {
     "data": {
      "text/plain": [
       "<matplotlib.axes._subplots.AxesSubplot at 0x220a3ab5608>"
      ]
     },
     "execution_count": 28,
     "metadata": {},
     "output_type": "execute_result"
    },
    {
     "data": {
      "image/png": "[encoded data removed]",
      "text/plain": [
       "<Figure size 432x288 with 1 Axes>"
      ]
     },
     "metadata": {
      "needs_background": "light"
     },
     "output_type": "display_data"
    }
   ],
   "source": [
    "# 현재 하고있는 일\n",
    "sns.countplot(y=mcq['CurrentJobTitleSelect'])"
   ]
  },
  {
   "cell_type": "code",
   "execution_count": 29,
   "metadata": {},
   "outputs": [
    {
     "data": {
      "text/plain": [
       "(11830,)"
      ]
     },
     "execution_count": 29,
     "metadata": {},
     "output_type": "execute_result"
    }
   ],
   "source": [
    "# 현재 하고 있는 일에 대한 전체 응답수\n",
    "mcq[mcq['CurrentJobTitleSelect'].notnull()]['CurrentJobTitleSelect'].shape"
   ]
  },
  {
   "cell_type": "code",
   "execution_count": 30,
   "metadata": {},
   "outputs": [
    {
     "name": "stdout",
     "output_type": "stream",
     "text": [
      "(7158, 228)\n"
     ]
    },
    {
     "data": {
      "text/plain": [
       "<matplotlib.axes._subplots.AxesSubplot at 0x220a39cb788>"
      ]
     },
     "execution_count": 30,
     "metadata": {},
     "output_type": "execute_result"
    },
    {
     "data": {
      "image/png": "[encoded data removed]",
      "text/plain": [
       "<Figure size 576x720 with 1 Axes>"
      ]
     },
     "metadata": {
      "needs_background": "light"
     },
     "output_type": "display_data"
    }
   ],
   "source": [
    "# 현재 하고 있는 일에 대한 응답을 해준 사람 중 Python과 R을 사용하는 사람\n",
    "# 응답자들이 실제 업무에서 어떤 언어를 주로 사용하는지 볼 수 있다. \n",
    "\n",
    "data = mcq[(mcq['CurrentJobTitleSelect'].notnull()) & (\n",
    "    (mcq['LanguageRecommendationSelect'] == 'Python') | (mcq['LanguageRecommendationSelect'] == 'R'))]\n",
    "\n",
    "print(data.shape)\n",
    "plt.figure(figsize=(8,10))\n",
    "sns.countplot(data = data, y='CurrentJobTitleSelect', hue= 'LanguageRecommendationSelect')"
   ]
  },
  {
   "cell_type": "markdown",
   "metadata": {},
   "source": [
    "대체적으로 R보다 Python을 더 선호. 통계관련 쪽은 R을더 선호 "
   ]
  },
  {
   "cell_type": "markdown",
   "metadata": {},
   "source": [
    "## Q2.데이터 사이언스 분야에서 앞으로 크게 주목받을 것은 무엇일까요?\n",
    "* 관련 분야의 종사자가 아니더라도 빅데이터, 딥러닝, 뉴럴네트워크 같은 용어에 대해 알고있다. 으답자들이 내년에 가장 흥미로운 기술이 될 것이라 응답한 것이다."
   ]
  },
  {
   "cell_type": "markdown",
   "metadata": {},
   "source": [
    "### 데이터사이언스 툴"
   ]
  },
  {
   "cell_type": "code",
   "execution_count": 31,
   "metadata": {},
   "outputs": [
    {
     "data": {
      "text/html": [
       "<div>\n",
       "<style scoped>\n",
       "    .dataframe tbody tr th:only-of-type {\n",
       "        vertical-align: middle;\n",
       "    }\n",
       "\n",
       "    .dataframe tbody tr th {\n",
       "        vertical-align: top;\n",
       "    }\n",
       "\n",
       "    .dataframe thead th {\n",
       "        text-align: right;\n",
       "    }\n",
       "</style>\n",
       "<table border=\"1\" class=\"dataframe\">\n",
       "  <thead>\n",
       "    <tr style=\"text-align: right;\">\n",
       "      <th></th>\n",
       "      <th>응답수</th>\n",
       "      <th>비율</th>\n",
       "    </tr>\n",
       "  </thead>\n",
       "  <tbody>\n",
       "    <tr>\n",
       "      <td>TensorFlow</td>\n",
       "      <td>2621</td>\n",
       "      <td>0.238316</td>\n",
       "    </tr>\n",
       "    <tr>\n",
       "      <td>Python</td>\n",
       "      <td>1713</td>\n",
       "      <td>0.155756</td>\n",
       "    </tr>\n",
       "    <tr>\n",
       "      <td>R</td>\n",
       "      <td>910</td>\n",
       "      <td>0.082742</td>\n",
       "    </tr>\n",
       "    <tr>\n",
       "      <td>Spark / MLlib</td>\n",
       "      <td>755</td>\n",
       "      <td>0.068649</td>\n",
       "    </tr>\n",
       "    <tr>\n",
       "      <td>Hadoop/Hive/Pig</td>\n",
       "      <td>417</td>\n",
       "      <td>0.037916</td>\n",
       "    </tr>\n",
       "    <tr>\n",
       "      <td>Other</td>\n",
       "      <td>407</td>\n",
       "      <td>0.037007</td>\n",
       "    </tr>\n",
       "    <tr>\n",
       "      <td>Amazon Machine Learning</td>\n",
       "      <td>392</td>\n",
       "      <td>0.035643</td>\n",
       "    </tr>\n",
       "    <tr>\n",
       "      <td>Jupyter notebooks</td>\n",
       "      <td>358</td>\n",
       "      <td>0.032551</td>\n",
       "    </tr>\n",
       "    <tr>\n",
       "      <td>I don't plan on learning a new tool/technology</td>\n",
       "      <td>341</td>\n",
       "      <td>0.031006</td>\n",
       "    </tr>\n",
       "    <tr>\n",
       "      <td>Google Cloud Compute</td>\n",
       "      <td>296</td>\n",
       "      <td>0.026914</td>\n",
       "    </tr>\n",
       "    <tr>\n",
       "      <td>Amazon Web services</td>\n",
       "      <td>273</td>\n",
       "      <td>0.024823</td>\n",
       "    </tr>\n",
       "    <tr>\n",
       "      <td>Julia</td>\n",
       "      <td>222</td>\n",
       "      <td>0.020185</td>\n",
       "    </tr>\n",
       "    <tr>\n",
       "      <td>Microsoft Azure Machine Learning</td>\n",
       "      <td>220</td>\n",
       "      <td>0.020004</td>\n",
       "    </tr>\n",
       "    <tr>\n",
       "      <td>DataRobot</td>\n",
       "      <td>220</td>\n",
       "      <td>0.020004</td>\n",
       "    </tr>\n",
       "    <tr>\n",
       "      <td>IBM Watson / Waton Analytics</td>\n",
       "      <td>194</td>\n",
       "      <td>0.017640</td>\n",
       "    </tr>\n",
       "    <tr>\n",
       "      <td>C/C++</td>\n",
       "      <td>186</td>\n",
       "      <td>0.016912</td>\n",
       "    </tr>\n",
       "    <tr>\n",
       "      <td>Tableau</td>\n",
       "      <td>150</td>\n",
       "      <td>0.013639</td>\n",
       "    </tr>\n",
       "    <tr>\n",
       "      <td>SQL</td>\n",
       "      <td>138</td>\n",
       "      <td>0.012548</td>\n",
       "    </tr>\n",
       "    <tr>\n",
       "      <td>Java</td>\n",
       "      <td>116</td>\n",
       "      <td>0.010547</td>\n",
       "    </tr>\n",
       "    <tr>\n",
       "      <td>MATLAB/Octave</td>\n",
       "      <td>115</td>\n",
       "      <td>0.010456</td>\n",
       "    </tr>\n",
       "  </tbody>\n",
       "</table>\n",
       "</div>"
      ],
      "text/plain": [
       "                                                 응답수        비율\n",
       "TensorFlow                                      2621  0.238316\n",
       "Python                                          1713  0.155756\n",
       "R                                                910  0.082742\n",
       "Spark / MLlib                                    755  0.068649\n",
       "Hadoop/Hive/Pig                                  417  0.037916\n",
       "Other                                            407  0.037007\n",
       "Amazon Machine Learning                          392  0.035643\n",
       "Jupyter notebooks                                358  0.032551\n",
       "I don't plan on learning a new tool/technology   341  0.031006\n",
       "Google Cloud Compute                             296  0.026914\n",
       "Amazon Web services                              273  0.024823\n",
       "Julia                                            222  0.020185\n",
       "Microsoft Azure Machine Learning                 220  0.020004\n",
       "DataRobot                                        220  0.020004\n",
       "IBM Watson / Waton Analytics                     194  0.017640\n",
       "C/C++                                            186  0.016912\n",
       "Tableau                                          150  0.013639\n",
       "SQL                                              138  0.012548\n",
       "Java                                             116  0.010547\n",
       "MATLAB/Octave                                    115  0.010456"
      ]
     },
     "execution_count": 31,
     "metadata": {},
     "output_type": "execute_result"
    }
   ],
   "source": [
    "mcq_ml_tool_count = pd.DataFrame(mcq['MLToolNextYearSelect'].value_counts())\n",
    "mcq_ml_tool_percent = pd.DataFrame(\n",
    "    mcq['MLToolNextYearSelect'].value_counts(normalize=True))\n",
    "\n",
    "mcq_ml_tool_df = mcq_ml_tool_count.merge(\n",
    "    mcq_ml_tool_percent, left_index=True, right_index=True).head(20)\n",
    "\n",
    "mcq_ml_tool_df.columns=['응답수', '비율']\n",
    "mcq_ml_tool_df"
   ]
  },
  {
   "cell_type": "code",
   "execution_count": 32,
   "metadata": {},
   "outputs": [
    {
     "data": {
      "text/plain": [
       "<matplotlib.axes._subplots.AxesSubplot at 0x220a4a5af88>"
      ]
     },
     "execution_count": 32,
     "metadata": {},
     "output_type": "execute_result"
    },
    {
     "data": {
      "image/png": "[encoded data removed]",
      "text/plain": [
       "<Figure size 432x288 with 1 Axes>"
      ]
     },
     "metadata": {
      "needs_background": "light"
     },
     "output_type": "display_data"
    }
   ],
   "source": [
    "data = mcq['MLToolNextYearSelect'].value_counts().head(20)\n",
    "sns.barplot(y=data.index, x= data)"
   ]
  },
  {
   "cell_type": "markdown",
   "metadata": {},
   "source": [
    "구글의 딥러닝 프레임워크 텐서플로우가 23%로 가장 많은 관심을 받을 것이라 응답. 그리고 Python이 15%, R은 8%로 따르고 있다.\n",
    "\n",
    "클라우드는 Amazon ML, GCP, AWS, MS Azure ML, IBM Watson 순으로 응답되었다. "
   ]
  },
  {
   "cell_type": "markdown",
   "metadata": {},
   "source": [
    "### 데이터 사이언스 방법 Data Science Methods\n"
   ]
  },
  {
   "cell_type": "code",
   "execution_count": 33,
   "metadata": {},
   "outputs": [
    {
     "data": {
      "text/plain": [
       "<matplotlib.axes._subplots.AxesSubplot at 0x220a39b4d08>"
      ]
     },
     "execution_count": 33,
     "metadata": {},
     "output_type": "execute_result"
    },
    {
     "data": {
      "image/png": "[encoded data removed]",
      "text/plain": [
       "<Figure size 432x288 with 1 Axes>"
      ]
     },
     "metadata": {
      "needs_background": "light"
     },
     "output_type": "display_data"
    }
   ],
   "source": [
    "data = mcq['MLMethodNextYearSelect'].value_counts().head(15)\n",
    "data\n",
    "sns.barplot(y=data.index, x=data)"
   ]
  },
  {
   "cell_type": "markdown",
   "metadata": {},
   "source": [
    "응답에 대한 토예끌 보면 딥러닝과 뉴럴넷이 엄청나게 인기가 있을 것이고 시계열 분석, 베이지안, 텍스트 마이닝 등의 내용이 있다. 중간 쯤에 부스팅과 베깅 같은 앙상블 메소드도 있다. "
   ]
  },
  {
   "cell_type": "markdown",
   "metadata": {},
   "source": [
    "### 어디에서 데이터 사이언스를 배워야 할까요?"
   ]
  },
  {
   "cell_type": "code",
   "execution_count": 34,
   "metadata": {},
   "outputs": [],
   "source": [
    "mcq['LearningPlatformSelect'] = mcq['LearningPlatformSelect'].astype('str').apply(lambda x: x.split(','))\n",
    "s = mcq.apply(\n",
    "    lambda x: pd.Series(x['LearningPlatformSelect']),\n",
    "    axis=1).stack().reset_index(level=1, drop=True)\n",
    "s.name='platform'"
   ]
  },
  {
   "cell_type": "code",
   "execution_count": 35,
   "metadata": {},
   "outputs": [
    {
     "data": {
      "text/plain": [
       "<matplotlib.axes._subplots.AxesSubplot at 0x220a39c0908>"
      ]
     },
     "execution_count": 35,
     "metadata": {},
     "output_type": "execute_result"
    },
    {
     "data": {
      "image/png": "[encoded data removed]",
      "text/plain": [
       "<Figure size 432x576 with 1 Axes>"
      ]
     },
     "metadata": {
      "needs_background": "light"
     },
     "output_type": "display_data"
    }
   ],
   "source": [
    "# print(s)\n",
    "plt.figure(figsize=(6,8))\n",
    "data=s[s != 'nan'].value_counts().head(15)\n",
    "data\n",
    "sns.barplot(y=data.index, x=data)"
   ]
  },
  {
   "cell_type": "markdown",
   "metadata": {},
   "source": [
    "* kaggle이 응답자들 사이에서 가장 인기있는 학습 플랫폼\n",
    "* 그러나 이 설문조사를 실시한 곳이 Kaggle이기 때문에 응답이 편향되었을 수 있음\n",
    "* 온라인 코스, 스택 오버플로 및 유튜브 상위 5대 우수 학습 플랫폼은 대학 학위나 교과서의 중요도보다 높다"
   ]
  },
  {
   "cell_type": "code",
   "execution_count": 36,
   "metadata": {},
   "outputs": [
    {
     "name": "stdout",
     "output_type": "stream",
     "text": [
      "(7, 3)\n"
     ]
    },
    {
     "data": {
      "text/html": [
       "<div>\n",
       "<style scoped>\n",
       "    .dataframe tbody tr th:only-of-type {\n",
       "        vertical-align: middle;\n",
       "    }\n",
       "\n",
       "    .dataframe tbody tr th {\n",
       "        vertical-align: top;\n",
       "    }\n",
       "\n",
       "    .dataframe thead th {\n",
       "        text-align: right;\n",
       "    }\n",
       "</style>\n",
       "<table border=\"1\" class=\"dataframe\">\n",
       "  <thead>\n",
       "    <tr style=\"text-align: right;\">\n",
       "      <th></th>\n",
       "      <th>Column</th>\n",
       "      <th>Question</th>\n",
       "      <th>Asked</th>\n",
       "    </tr>\n",
       "  </thead>\n",
       "  <tbody>\n",
       "    <tr>\n",
       "      <td>91</td>\n",
       "      <td>LearningCategorySelftTaught</td>\n",
       "      <td>What percentage of your current machine learni...</td>\n",
       "      <td>All</td>\n",
       "    </tr>\n",
       "    <tr>\n",
       "      <td>92</td>\n",
       "      <td>LearningCategoryOnlineCourses</td>\n",
       "      <td>What percentage of your current machine learni...</td>\n",
       "      <td>All</td>\n",
       "    </tr>\n",
       "    <tr>\n",
       "      <td>93</td>\n",
       "      <td>LearningCategoryWork</td>\n",
       "      <td>What percentage of your current machine learni...</td>\n",
       "      <td>All</td>\n",
       "    </tr>\n",
       "    <tr>\n",
       "      <td>94</td>\n",
       "      <td>LearningCategoryUniversity</td>\n",
       "      <td>What percentage of your current machine learni...</td>\n",
       "      <td>All</td>\n",
       "    </tr>\n",
       "    <tr>\n",
       "      <td>95</td>\n",
       "      <td>LearningCategoryKaggle</td>\n",
       "      <td>What percentage of your current machine learni...</td>\n",
       "      <td>All</td>\n",
       "    </tr>\n",
       "    <tr>\n",
       "      <td>96</td>\n",
       "      <td>LearningCategoryOther</td>\n",
       "      <td>What percentage of your current machine learni...</td>\n",
       "      <td>All</td>\n",
       "    </tr>\n",
       "    <tr>\n",
       "      <td>97</td>\n",
       "      <td>LearningCategoryOtherFreeForm</td>\n",
       "      <td>What percentage of your current machine learni...</td>\n",
       "      <td>All</td>\n",
       "    </tr>\n",
       "  </tbody>\n",
       "</table>\n",
       "</div>"
      ],
      "text/plain": [
       "                           Column  \\\n",
       "91    LearningCategorySelftTaught   \n",
       "92  LearningCategoryOnlineCourses   \n",
       "93           LearningCategoryWork   \n",
       "94     LearningCategoryUniversity   \n",
       "95         LearningCategoryKaggle   \n",
       "96          LearningCategoryOther   \n",
       "97  LearningCategoryOtherFreeForm   \n",
       "\n",
       "                                             Question Asked  \n",
       "91  What percentage of your current machine learni...   All  \n",
       "92  What percentage of your current machine learni...   All  \n",
       "93  What percentage of your current machine learni...   All  \n",
       "94  What percentage of your current machine learni...   All  \n",
       "95  What percentage of your current machine learni...   All  \n",
       "96  What percentage of your current machine learni...   All  \n",
       "97  What percentage of your current machine learni...   All  "
      ]
     },
     "execution_count": 36,
     "metadata": {},
     "output_type": "execute_result"
    }
   ],
   "source": [
    "# 설문내용과 누구에게 물어봤는지를 찾아봄\n",
    "qc = question.loc[\n",
    "    question['Column'].str.contains('LearningCategory')]\n",
    "print(qc.shape)\n",
    "qc"
   ]
  },
  {
   "cell_type": "markdown",
   "metadata": {},
   "source": []
  },
  {
   "cell_type": "code",
   "execution_count": null,
   "metadata": {},
   "outputs": [],
   "source": []
  }
 ],
 "metadata": {
  "kernelspec": {
   "display_name": "Python 3",
   "language": "python",
   "name": "python3"
  },
  "language_info": {
   "codemirror_mode": {
    "name": "ipython",
    "version": 3
   },
   "file_extension": ".py",
   "mimetype": "text/x-python",
   "name": "python",
   "nbconvert_exporter": "python",
   "pygments_lexer": "ipython3",
   "version": "3.7.4"
  },
  "toc": {
   "base_numbering": 1,
   "nav_menu": {},
   "number_sections": true,
   "sideBar": true,
   "skip_h1_title": false,
   "title_cell": "Table of Contents",
   "title_sidebar": "Contents",
   "toc_cell": false,
   "toc_position": {},
   "toc_section_display": true,
   "toc_window_display": true
  }
 },
 "nbformat": 4,
 "nbformat_minor": 2
}
